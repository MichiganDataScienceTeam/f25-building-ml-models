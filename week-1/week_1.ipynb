{
  "nbformat": 4,
  "nbformat_minor": 0,
  "metadata": {
    "colab": {
      "provenance": []
    },
    "kernelspec": {
      "name": "python3",
      "display_name": "Python 3"
    },
    "language_info": {
      "name": "python"
    }
  },
  "cells": [
    {
      "cell_type": "code",
      "execution_count": null,
      "metadata": {
        "id": "om9vlkH4nOVM"
      },
      "outputs": [],
      "source": [
        "import numpy as np\n",
        "import pandas as pd\n",
        "import math"
      ]
    },
    {
      "cell_type": "code",
      "source": [
        "# Week 1 Dataset\n",
        "df = pd.read_csv('https://raw.githubusercontent.com/MichiganDataScienceTeam/f25-building-ml-models/refs/heads/main/week-1/dataset.csv')\n",
        "\n",
        "# TODO: First view the input data using head(), then store the top 5 inputs in a np array\n",
        "# Hint: List[:x] can extract the first x elements of a python list"
      ],
      "metadata": {
        "id": "TQDgxjLAv24A"
      },
      "execution_count": null,
      "outputs": []
    },
    {
      "cell_type": "code",
      "source": [
        "def sigmoid(x: int) -> float:\n",
        "  \"\"\"Sigmoid activation function.\"\"\"\n",
        "  # TODO: Write the activation function\n",
        "  return 0.0"
      ],
      "metadata": {
        "id": "uePJJq2VpUol"
      },
      "execution_count": null,
      "outputs": []
    },
    {
      "cell_type": "code",
      "source": [
        "class Perceptron:\n",
        "  \"\"\"Neuron class object representing perceptron.\"\"\"\n",
        "\n",
        "  def __init__(self, num_inputs: int, weights = None) -> None:\n",
        "    \"\"\"Init weights and other information.\"\"\"\n",
        "\n",
        "    self.num_inputs = num_inputs\n",
        "\n",
        "    # TODO: declare a variable to store weights similar to how num_inputs is stored\n",
        "    # Define random weights in shape (1, num_inputs)\n",
        "\n",
        "  def feed_forward(self, inputs: np.array) -> float:\n",
        "    \"\"\"Forward propogation step.\"\"\"\n",
        "\n",
        "    output = None\n",
        "\n",
        "    # TODO: complete feed forward algorithm below\n",
        "    return output"
      ],
      "metadata": {
        "id": "NoJ8Rw1inUdJ"
      },
      "execution_count": null,
      "outputs": []
    },
    {
      "cell_type": "code",
      "source": [
        "def main():\n",
        "  \"\"\"Test Perceptron class here.\"\"\"\n",
        "\n",
        "  # TODO: Declare your perceptron class below, run your feed_forward algorithm\n",
        "  # BONUS: declare an array of weights to pass into your perceptron so the output of the forward pass is 0.5\n",
        "\n",
        "main()"
      ],
      "metadata": {
        "id": "nfTkZIlKpFr1"
      },
      "execution_count": null,
      "outputs": []
    },
    {
      "cell_type": "code",
      "source": [],
      "metadata": {
        "id": "5-6WGffIrt9W"
      },
      "execution_count": null,
      "outputs": []
    }
  ]
}